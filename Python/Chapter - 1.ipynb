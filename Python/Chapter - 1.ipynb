{
 "cells": [
  {
   "cell_type": "code",
   "execution_count": 1,
   "id": "9de23356",
   "metadata": {},
   "outputs": [
    {
     "name": "stdout",
     "output_type": "stream",
     "text": [
      "hello\n"
     ]
    }
   ],
   "source": [
    "print(\"hello\")"
   ]
  },
  {
   "cell_type": "code",
   "execution_count": 2,
   "id": "d02acad0",
   "metadata": {},
   "outputs": [
    {
     "data": {
      "text/plain": [
       "'sarika'"
      ]
     },
     "execution_count": 2,
     "metadata": {},
     "output_type": "execute_result"
    }
   ],
   "source": [
    "a='sarika'\n",
    "a"
   ]
  },
  {
   "cell_type": "code",
   "execution_count": null,
   "id": "c30df13c",
   "metadata": {},
   "outputs": [],
   "source": [
    "### * = Italic..\n",
    "### ** = Bold..\n",
    "### ` = Highlight.."
   ]
  },
  {
   "cell_type": "markdown",
   "id": "89648d99",
   "metadata": {},
   "source": [
    "<font color=red><font size=6>***`Chater 1` = INRODUCTION TO PYTHON***</font> \n",
    "   \n"
   ]
  },
  {
   "cell_type": "markdown",
   "id": "c85ea456",
   "metadata": {},
   "source": [
    "### open Google or Youtube or Instagram.."
   ]
  },
  {
   "cell_type": "markdown",
   "id": "7fa1b2ff",
   "metadata": {},
   "source": [
    "<font color=red><font size=5>[Google](https://www.google.com/)</font> <br>\n",
    "<font color=red><font size=5>[Youtube](https://www.youtube.com)</font> <br>\n",
    "<font color=red><font size=5>[Instagram](https://www.instagram.com/)</font> "
   ]
  },
  {
   "cell_type": "markdown",
   "id": "aea019a3",
   "metadata": {},
   "source": [
    "### Create a Table.."
   ]
  },
  {
   "cell_type": "markdown",
   "id": "ac3920e2",
   "metadata": {},
   "source": [
    "  Name   |   Roll No  |\n",
    "---------|------------|\n",
    "Sarika   |     43     |\n",
    "Anrika   |     35     |\n",
    "Avani    |     03     |"
   ]
  },
  {
   "cell_type": "markdown",
   "id": "7ebf1d24",
   "metadata": {},
   "source": [
    "### Add Image or Attachments.."
   ]
  },
  {
   "attachments": {
    "images1.jpg": {
     "image/jpeg": "[encoded data removed]"
    }
   },
   "cell_type": "markdown",
   "id": "aa36efb1",
   "metadata": {},
   "source": [
    "![images1.jpg](attachment:images1.jpg)"
   ]
  },
  {
   "cell_type": "markdown",
   "id": "ea2809b2",
   "metadata": {},
   "source": [
    "### ``` = Paste Code [Document code].."
   ]
  },
  {
   "cell_type": "markdown",
   "id": "9adfdd5b",
   "metadata": {},
   "source": [
    "```# Sum of 100 numbers\n",
    "sum=0\n",
    "for i in range(1,101):\n",
    "    sum=sum+i\n",
    "print(sum)```"
   ]
  },
  {
   "cell_type": "markdown",
   "id": "c55f6f25",
   "metadata": {},
   "source": [
    "### ~~ = Strickthough [Show mistackes].."
   ]
  },
  {
   "cell_type": "markdown",
   "id": "3d7e922d",
   "metadata": {},
   "source": [
    "~~Hii....My Name is Sarika.~~"
   ]
  },
  {
   "cell_type": "markdown",
   "id": "cd1bad07",
   "metadata": {},
   "source": [
    "### Variables.."
   ]
  },
  {
   "cell_type": "code",
   "execution_count": 1,
   "id": "3cb558ab",
   "metadata": {},
   "outputs": [
    {
     "data": {
      "text/plain": [
       "float"
      ]
     },
     "execution_count": 1,
     "metadata": {},
     "output_type": "execute_result"
    }
   ],
   "source": [
    "i =10\n",
    "f =10.9\n",
    "type(f)"
   ]
  },
  {
   "cell_type": "code",
   "execution_count": 9,
   "id": "8e7ba4de",
   "metadata": {},
   "outputs": [
    {
     "data": {
      "text/plain": [
       "True"
      ]
     },
     "execution_count": 9,
     "metadata": {},
     "output_type": "execute_result"
    }
   ],
   "source": [
    "s = \"xyx\"\n",
    "type(s) == str"
   ]
  },
  {
   "cell_type": "markdown",
   "id": "0305fcc5",
   "metadata": {},
   "source": [
    "### Example operator  and type coversion.."
   ]
  },
  {
   "cell_type": "code",
   "execution_count": 24,
   "id": "777074c2",
   "metadata": {},
   "outputs": [],
   "source": [
    "# a = 5\n",
    "# a= (-4) ** 2\n",
    "# a\n"
   ]
  },
  {
   "cell_type": "code",
   "execution_count": 27,
   "id": "ba696226",
   "metadata": {},
   "outputs": [
    {
     "data": {
      "text/plain": [
       "5"
      ]
     },
     "execution_count": 27,
     "metadata": {},
     "output_type": "execute_result"
    }
   ],
   "source": [
    "### True = 1\n",
    "### False = 0\n",
    "\n",
    "b= True + 5\n",
    "b\n",
    "\n",
    "b= False + 5\n",
    "b"
   ]
  },
  {
   "cell_type": "code",
   "execution_count": 28,
   "id": "ec3aae58",
   "metadata": {},
   "outputs": [
    {
     "data": {
      "text/plain": [
       "8"
      ]
     },
     "execution_count": 28,
     "metadata": {},
     "output_type": "execute_result"
    }
   ],
   "source": [
    "c= True + 4\n",
    "c =c + 3\n",
    "c"
   ]
  },
  {
   "cell_type": "code",
   "execution_count": 31,
   "id": "6683295d",
   "metadata": {},
   "outputs": [
    {
     "data": {
      "text/plain": [
       "'gvpahm'"
      ]
     },
     "execution_count": 31,
     "metadata": {},
     "output_type": "execute_result"
    }
   ],
   "source": [
    "'gvp' + \"ahm\""
   ]
  },
  {
   "cell_type": "code",
   "execution_count": 35,
   "id": "5cb7fabb",
   "metadata": {},
   "outputs": [
    {
     "data": {
      "text/plain": [
       "'hiihiihii'"
      ]
     },
     "execution_count": 35,
     "metadata": {},
     "output_type": "execute_result"
    }
   ],
   "source": [
    "k = 'hii' *3\n",
    "k"
   ]
  },
  {
   "cell_type": "code",
   "execution_count": 2,
   "id": "02217820",
   "metadata": {},
   "outputs": [
    {
     "name": "stdout",
     "output_type": "stream",
     "text": [
      "gujarat\tindia\n"
     ]
    }
   ],
   "source": [
    "s = 'gujarat\\nindia'\n",
    "s1 = 'gujarat\\tindia'\n",
    "print(s1)"
   ]
  },
  {
   "cell_type": "code",
   "execution_count": 5,
   "id": "78f305b5",
   "metadata": {},
   "outputs": [
    {
     "name": "stdout",
     "output_type": "stream",
     "text": [
      "False\n"
     ]
    }
   ],
   "source": [
    "print([] or False)"
   ]
  },
  {
   "cell_type": "markdown",
   "id": "ce96d0f3",
   "metadata": {},
   "source": [
    "### Using [] Brackets.."
   ]
  },
  {
   "cell_type": "code",
   "execution_count": 36,
   "id": "bb330ae0",
   "metadata": {},
   "outputs": [
    {
     "data": {
      "text/plain": [
       "['Gujarat', 'vidyapith']"
      ]
     },
     "execution_count": 36,
     "metadata": {},
     "output_type": "execute_result"
    }
   ],
   "source": [
    "un='Gujarat vidyapith'\n",
    "un[0]\n",
    "un[0:3]\n",
    "un[3:]\n",
    "un[-1:]\n",
    "un[-14:]\n",
    "un[-1]\n",
    "un[12:-2]\n",
    "un[2:-12]\n",
    "un[1:5]\n",
    "un[1:5:2]\n",
    "un[::2]\n",
    "un[::-1]\n",
    "un.index('Guj')\n",
    "un.upper()\n",
    "un.split()"
   ]
  },
  {
   "cell_type": "markdown",
   "id": "22d95c38",
   "metadata": {},
   "source": [
    "### Formatting String.. {} - replacement filed."
   ]
  },
  {
   "cell_type": "code",
   "execution_count": 44,
   "id": "f2264007",
   "metadata": {},
   "outputs": [
    {
     "data": {
      "text/plain": [
       "'10 and 10.4'"
      ]
     },
     "execution_count": 44,
     "metadata": {},
     "output_type": "execute_result"
    }
   ],
   "source": [
    "a=10\n",
    "b=10.4\n",
    "\"{1} and {0}\".format(a,b)\n",
    "\"{0} and {1}\".format(a,b)"
   ]
  },
  {
   "cell_type": "markdown",
   "id": "d8864657",
   "metadata": {},
   "source": [
    "### Width and padding provide after colon.."
   ]
  },
  {
   "cell_type": "code",
   "execution_count": 49,
   "id": "7d91369f",
   "metadata": {},
   "outputs": [
    {
     "data": {
      "text/plain": [
       "'9ab    2'"
      ]
     },
     "execution_count": 49,
     "metadata": {},
     "output_type": "execute_result"
    }
   ],
   "source": [
    "\"{:5}  {}\".format(\"9ab\",2)\n",
    "\"{:>5}  {}\".format(\"9ab\",2)\n",
    "\"{:<5}  {}\".format(\"9ab\",2)"
   ]
  },
  {
   "cell_type": "markdown",
   "id": "c232824b",
   "metadata": {},
   "source": [
    "### Type Conversion.."
   ]
  },
  {
   "cell_type": "code",
   "execution_count": 1,
   "id": "36323678",
   "metadata": {},
   "outputs": [
    {
     "data": {
      "text/plain": [
       "10.0"
      ]
     },
     "execution_count": 1,
     "metadata": {},
     "output_type": "execute_result"
    }
   ],
   "source": [
    "i=float(\"10\")\n",
    "i1=int(10.9)\n",
    "i\n",
    "# type(i)"
   ]
  },
  {
   "cell_type": "code",
   "execution_count": null,
   "id": "25e1cfbe",
   "metadata": {},
   "outputs": [],
   "source": []
  }
 ],
 "metadata": {
  "kernelspec": {
   "display_name": "Python 3",
   "language": "python",
   "name": "python3"
  },
  "language_info": {
   "codemirror_mode": {
    "name": "ipython",
    "version": 3
   },
   "file_extension": ".py",
   "mimetype": "text/x-python",
   "name": "python",
   "nbconvert_exporter": "python",
   "pygments_lexer": "ipython3",
   "version": "3.9.4"
  }
 },
 "nbformat": 4,
 "nbformat_minor": 5
}
